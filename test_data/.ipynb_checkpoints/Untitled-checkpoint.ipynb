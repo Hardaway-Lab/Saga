{
 "cells": [
  {
   "cell_type": "code",
   "execution_count": 1,
   "id": "3d7a2dc9-7714-42ed-af96-b83daeea3c91",
   "metadata": {},
   "outputs": [],
   "source": [
    "import pandas as pd"
   ]
  },
  {
   "cell_type": "code",
   "execution_count": 15,
   "id": "b21cd76c-f9e6-4db9-8eee-0606fb9f8ec3",
   "metadata": {},
   "outputs": [],
   "source": [
    "df = pd.read_csv('FED001_061322_03.CSV', usecols=['Event', 'MM:DD:YYYY hh:mm:ss']).rename(columns={'Event':'EVENT_FLAG', 'MM:DD:YYYY hh:mm:ss':'TIME'}, inplace=True)"
   ]
  },
  {
   "cell_type": "code",
   "execution_count": 16,
   "id": "6bf86465-31ee-4f92-8c91-bbf8ecda9e83",
   "metadata": {},
   "outputs": [],
   "source": [
    "df"
   ]
  },
  {
   "cell_type": "code",
   "execution_count": null,
   "id": "422b3c49-e019-48d8-853a-9eb71c93d32c",
   "metadata": {},
   "outputs": [],
   "source": []
  }
 ],
 "metadata": {
  "kernelspec": {
   "display_name": "Python 3 (ipykernel)",
   "language": "python",
   "name": "python3"
  },
  "language_info": {
   "codemirror_mode": {
    "name": "ipython",
    "version": 3
   },
   "file_extension": ".py",
   "mimetype": "text/x-python",
   "name": "python",
   "nbconvert_exporter": "python",
   "pygments_lexer": "ipython3",
   "version": "3.10.9"
  }
 },
 "nbformat": 4,
 "nbformat_minor": 5
}
