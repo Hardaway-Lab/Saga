{
 "cells": [
  {
   "cell_type": "code",
   "execution_count": 40,
   "id": "f7f147b4-e407-4cb1-acda-658e3b4c8847",
   "metadata": {},
   "outputs": [],
   "source": [
    "import pandas as pd\n",
    "import numpy as np\n",
    "\n",
    "def load_csv(name: str, names: list = []) -> pd.DataFrame:\n",
    "    if len(names) > 0:\n",
    "        return pd.read_csv(name, sep=',', names=names, dtype='str')\n",
    "    else:\n",
    "         return pd.read_csv(name, sep=',', dtype='str')\n",
    "    \n",
    "def deinterleave(df: pd.DataFrame, column_label: str, keys: list = []) -> dict:\n",
    "    if len(keys) == 0:\n",
    "        keys = df[column_label].drop_duplicates().to_list()\n",
    "    return {keys[index]: df[df[column_label] == key] for index, key in enumerate(keys)}"
   ]
  },
  {
   "cell_type": "code",
   "execution_count": 46,
   "id": "0512dce9-b053-4b6a-8b27-c30232cc8509",
   "metadata": {},
   "outputs": [],
   "source": [
    "df = load_csv('FED3_Trial_SP 7-6 _FP2021-10-22T11_07_15.csv')"
   ]
  },
  {
   "cell_type": "code",
   "execution_count": 52,
   "id": "1183579f-e805-4cc8-ac54-793c88bf983d",
   "metadata": {},
   "outputs": [],
   "source": [
    "df_dict = deinterleave(df, label='LedState', keys=[1, 2, 4])"
   ]
  },
  {
   "cell_type": "code",
   "execution_count": 53,
   "id": "c16b5145-f187-45e0-85b1-6f77b00e078f",
   "metadata": {},
   "outputs": [
    {
     "data": {
      "text/html": [
       "<div>\n",
       "<style scoped>\n",
       "    .dataframe tbody tr th:only-of-type {\n",
       "        vertical-align: middle;\n",
       "    }\n",
       "\n",
       "    .dataframe tbody tr th {\n",
       "        vertical-align: top;\n",
       "    }\n",
       "\n",
       "    .dataframe thead th {\n",
       "        text-align: right;\n",
       "    }\n",
       "</style>\n",
       "<table border=\"1\" class=\"dataframe\">\n",
       "  <thead>\n",
       "    <tr style=\"text-align: right;\">\n",
       "      <th></th>\n",
       "      <th>FrameCounter</th>\n",
       "      <th>Timestamp</th>\n",
       "      <th>LedState</th>\n",
       "      <th>Stimulation</th>\n",
       "      <th>Output0</th>\n",
       "      <th>Output1</th>\n",
       "      <th>Input0</th>\n",
       "      <th>Input1</th>\n",
       "      <th>Region0G</th>\n",
       "      <th>Region1G</th>\n",
       "      <th>Region2R</th>\n",
       "      <th>Region3R</th>\n",
       "    </tr>\n",
       "  </thead>\n",
       "  <tbody>\n",
       "  </tbody>\n",
       "</table>\n",
       "</div>"
      ],
      "text/plain": [
       "Empty DataFrame\n",
       "Columns: [FrameCounter, Timestamp, LedState, Stimulation, Output0, Output1, Input0, Input1, Region0G, Region1G, Region2R, Region3R]\n",
       "Index: []"
      ]
     },
     "execution_count": 53,
     "metadata": {},
     "output_type": "execute_result"
    }
   ],
   "source": [
    "df_dict[4]"
   ]
  },
  {
   "cell_type": "code",
   "execution_count": null,
   "id": "cc68e53d-d2ec-4b4d-be4f-a6c42fe60a21",
   "metadata": {},
   "outputs": [],
   "source": []
  }
 ],
 "metadata": {
  "kernelspec": {
   "display_name": "Python 3 (ipykernel)",
   "language": "python",
   "name": "python3"
  },
  "language_info": {
   "codemirror_mode": {
    "name": "ipython",
    "version": 3
   },
   "file_extension": ".py",
   "mimetype": "text/x-python",
   "name": "python",
   "nbconvert_exporter": "python",
   "pygments_lexer": "ipython3",
   "version": "3.10.9"
  }
 },
 "nbformat": 4,
 "nbformat_minor": 5
}
