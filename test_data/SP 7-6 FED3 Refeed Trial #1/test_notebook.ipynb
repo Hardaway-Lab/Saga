{
 "cells": [
  {
   "cell_type": "code",
   "execution_count": 2,
   "id": "83af2840-f124-42a0-894d-4ffe6d6af3d7",
   "metadata": {},
   "outputs": [],
   "source": [
    "import pandas as pd\n",
    "import numpy as np"
   ]
  },
  {
   "cell_type": "code",
   "execution_count": 10,
   "id": "e22f2aa7-c8e3-42eb-ad31-7a063bca5540",
   "metadata": {},
   "outputs": [],
   "source": [
    "df = pd.read_csv('FED3_Trial_SP 7-6 _FP2021-10-22T11_07_15.csv', sep=',',index_col=False)\n",
    "key_df = pd.read_csv('FED3_Trial_SP 7-6 _Pellet RetrivalTimestamp 2021-10-22T11_07_14.csv', sep=',',index_col=False, names = ['Timestamp', 'Value.Seconds','Value.Value'])"
   ]
  },
  {
   "cell_type": "code",
   "execution_count": 7,
   "id": "25640dfb-9deb-4420-b3e3-30c84312066d",
   "metadata": {},
   "outputs": [],
   "source": [
    "from datetime import date\n",
    "\n",
    "START_DEINTERLEAVE = 20404\n",
    "OUTPUT_PLOTS = True\n",
    "OUTPUT_CSVS = True\n",
    "\n",
    "COLUMNS_IN_USE = [\n",
    "    \"FrameCounter\",\n",
    "    \"Timestamp\",\n",
    "    \"LedState\",\n",
    "    \"Stimulation\",\n",
    "    \"Output0\",\n",
    "    \"Output1\",\n",
    "    \"Region0G\",\n",
    "    \"Region1G\",\n",
    "    \"Region2R\",\n",
    "    \"Region3R\",\n",
    "]\n",
    "\n",
    "WAVELENGTH_LEDSTATE_MAP = {\n",
    "    0: \"system_start0\",\n",
    "    1: \"reference\",\n",
    "    2: \"green\",\n",
    "    4: \"red\",\n",
    "    7: \"system_start7\",\n",
    "}\n",
    "\n",
    "REGION_MAP = {\n",
    "    \"green_right\": \"Region0G\",\n",
    "    \"red_right\": \"Region2R\",\n",
    "    \"green_left\": \"Region1G\",\n",
    "    \"red_left\": \"Region3R\",\n",
    "}\n",
    "\n",
    "SMOOTH_WIN = 20\n",
    "\n",
    "INITIAL_GUESS = {\n",
    "    \"p1\": [2.42174821e-01, -1.38588594e04, 1.50226649e00, -2.47104465e02],\n",
    "    \"p2\": [2.45457828e-01, -1.22225553e04, 1.70376797e00, -2.14603333e02],\n",
    "    \"p3\": [6.02598768e00, -4.55640002e02, 1.38891091e-02, 5.88312168e03],\n",
    "    \"p4\": [2.56144082, -1660.1336067, 5.65778637, 53.25176018],\n",
    "}\n",
    "\n",
    "OUTPUT_CSV_PREFIX = f'SP {date.today()}'\n",
    "\n",
    "def deinterleave(\n",
    "    input_df: pd.DataFrame,\n",
    "    start: int = 0,\n",
    "    column_label: str = \"LedState\",\n",
    "    keys: list = [],\n",
    ") -> tuple:\n",
    "    input_df = input_df.truncate(before=start)\n",
    "    if len(keys) == 0:\n",
    "        keys = input_df[column_label].drop_duplicates().to_list()\n",
    "    dict = {\n",
    "        WAVELENGTH_LEDSTATE_MAP[keys[index]]: input_df[\n",
    "            input_df[column_label] == key\n",
    "        ]\n",
    "        for index, key in enumerate(keys)\n",
    "    }\n",
    "    smallest_size = min(x.shape[0] for x in dict.values())\n",
    "    for df in dict.values():\n",
    "        df.truncate(after=smallest_size)\n",
    "        df.reset_index(inplace=True)\n",
    "\n",
    "    return (\n",
    "        dict,\n",
    "        {\n",
    "            \"green_right\": dict[\"green\"][REGION_MAP[\"green_right\"]],\n",
    "            \"red_right\": dict[\"red\"][REGION_MAP[\"red_right\"]],\n",
    "            \"green_reference_right\": dict[\"reference\"][\n",
    "                REGION_MAP[\"green_right\"]\n",
    "            ],\n",
    "            \"red_reference_right\": dict[\"reference\"][REGION_MAP[\"red_right\"]],\n",
    "            \"green_left\": dict[\"green\"][REGION_MAP[\"green_left\"]],\n",
    "            \"red_left\": dict[\"red\"][REGION_MAP[\"red_left\"]],\n",
    "            \"green_reference_left\": dict[\"reference\"][\n",
    "                REGION_MAP[\"green_left\"]\n",
    "            ],\n",
    "            \"red_reference_left\": dict[\"reference\"][REGION_MAP[\"red_left\"]],\n",
    "        },\n",
    "    )"
   ]
  },
  {
   "cell_type": "code",
   "execution_count": 11,
   "id": "58fa3f3f-3c49-4604-b6f1-f74fb9f09e92",
   "metadata": {},
   "outputs": [],
   "source": [
    "df_dict, regions_dict = deinterleave(df, start=START_DEINTERLEAVE)"
   ]
  },
  {
   "cell_type": "code",
   "execution_count": 12,
   "id": "e97b7919-ab25-486e-9d25-4169c20d0da4",
   "metadata": {},
   "outputs": [
    {
     "data": {
      "text/plain": [
       "0.01581702066263924"
      ]
     },
     "execution_count": 12,
     "metadata": {},
     "output_type": "execute_result"
    }
   ],
   "source": [
    "regions_dict['green_right'].mean()"
   ]
  },
  {
   "cell_type": "code",
   "execution_count": null,
   "id": "4d8eb635-494b-4708-a075-d347d17f2918",
   "metadata": {},
   "outputs": [],
   "source": []
  }
 ],
 "metadata": {
  "kernelspec": {
   "display_name": "Python 3 (ipykernel)",
   "language": "python",
   "name": "python3"
  },
  "language_info": {
   "codemirror_mode": {
    "name": "ipython",
    "version": 3
   },
   "file_extension": ".py",
   "mimetype": "text/x-python",
   "name": "python",
   "nbconvert_exporter": "python",
   "pygments_lexer": "ipython3",
   "version": "3.10.9"
  }
 },
 "nbformat": 4,
 "nbformat_minor": 5
}
