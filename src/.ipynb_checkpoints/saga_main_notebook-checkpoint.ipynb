{
 "cells": [
  {
   "cell_type": "code",
   "execution_count": 1,
   "id": "8db047e0-135c-418b-939b-e026a833f7dc",
   "metadata": {},
   "outputs": [
    {
     "ename": "ModuleNotFoundError",
     "evalue": "No module named 'src'",
     "output_type": "error",
     "traceback": [
      "\u001b[0;31m---------------------------------------------------------------------------\u001b[0m",
      "\u001b[0;31mModuleNotFoundError\u001b[0m                       Traceback (most recent call last)",
      "Cell \u001b[0;32mIn[1], line 1\u001b[0m\n\u001b[0;32m----> 1\u001b[0m \u001b[38;5;28;01mimport\u001b[39;00m \u001b[38;5;21;01msrc\u001b[39;00m\u001b[38;5;21;01m.\u001b[39;00m\u001b[38;5;21;01msaga_operations\u001b[39;00m \u001b[38;5;28;01mas\u001b[39;00m \u001b[38;5;21;01mso\u001b[39;00m\n\u001b[1;32m      2\u001b[0m \u001b[38;5;28;01mimport\u001b[39;00m \u001b[38;5;21;01msrc\u001b[39;00m\u001b[38;5;21;01m.\u001b[39;00m\u001b[38;5;21;01msaga_io\u001b[39;00m \u001b[38;5;28;01mas\u001b[39;00m \u001b[38;5;21;01mio\u001b[39;00m\n\u001b[1;32m      3\u001b[0m \u001b[38;5;28;01mimport\u001b[39;00m \u001b[38;5;21;01msrc\u001b[39;00m\u001b[38;5;21;01m.\u001b[39;00m\u001b[38;5;21;01msaga_plot\u001b[39;00m \u001b[38;5;28;01mas\u001b[39;00m \u001b[38;5;21;01msp\u001b[39;00m\n",
      "\u001b[0;31mModuleNotFoundError\u001b[0m: No module named 'src'"
     ]
    }
   ],
   "source": [
    "import saga_operations as so\n",
    "import saga_io as io\n",
    "import saga_plot as sp\n",
    "import constants\n",
    "\n",
    "\n",
    "df = io.load_csv(\n",
    "    path=constants.DF_PATH,\n",
    "    usecols=constants.COLUMNS_IN_USE,\n",
    ")\n",
    "\n",
    "key_df = io.load_csv(\n",
    "    path=constants.KEY_PATH,\n",
    "    usecols=[\"Timestamp\", \"Value.Seconds\", \"Value.Value\"],\n",
    ")\n",
    "\n",
    "df_dict = so.deinterleave(df, start=constants.START_DEINTERLEAVE)\n",
    "regions_dict = so.give_me_relevant_regions(df_dict)\n",
    "sp.plot_rs_data(regions_dict, 'Raw')\n",
    "smooth_dict = so.smooth_signals(regions_dict)\n",
    "sp.plot_rs_data(smooth_dict, 'Smooth')\n",
    "corrected_dict = so.correct_signals(smooth_dict)\n",
    "pellets = so.give_me_pellets(df_dict[\"reference\"], key_df)\n",
    "sp.plot_corrected(corrected_dict, pellets, title_keyword='Corrected')\n",
    "fit_dict = so.fit(df_dict, corrected_dict)\n",
    "sp.plot_fit(df_dict, corrected_dict, fit_dict)\n",
    "fitsub_dict = so.subtract_fits(df_dict, fit_dict, corrected_dict)\n",
    "sp.plot_corrected(fitsub_dict, pellets, title_keyword='Fit')\n",
    "chopped_dict = so.chop_up(fitsub_dict, pellets)\n",
    "avg_dff_dict = so.avg_dff(chopped_dict)\n",
    "all_trials_dict, error_dict = so.normalized_signal(chopped_dict, avg_dff_dict)\n",
    "sp.plot_normalized(all_trials_dict, error_dict)\n"
   ]
  },
  {
   "cell_type": "code",
   "execution_count": null,
   "id": "22182471-690e-4897-9fed-51140e5d1589",
   "metadata": {},
   "outputs": [],
   "source": []
  }
 ],
 "metadata": {
  "kernelspec": {
   "display_name": "Python 3 (ipykernel)",
   "language": "python",
   "name": "python3"
  },
  "language_info": {
   "codemirror_mode": {
    "name": "ipython",
    "version": 3
   },
   "file_extension": ".py",
   "mimetype": "text/x-python",
   "name": "python",
   "nbconvert_exporter": "python",
   "pygments_lexer": "ipython3",
   "version": "3.10.9"
  }
 },
 "nbformat": 4,
 "nbformat_minor": 5
}
